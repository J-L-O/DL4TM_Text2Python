{
 "cells": [
  {
   "cell_type": "code",
   "execution_count": 3,
   "metadata": {
    "collapsed": true
   },
   "outputs": [
    {
     "name": "stdout",
     "output_type": "stream",
     "text": [
      "2379\n",
      "{'intent': 'How to convert a list of multiple integers into a single integer?', 'rewritten_intent': \"Concatenate elements of a list 'x' of multiple integers to a single integer\", 'snippet': 'sum(d * 10 ** i for i, d in enumerate(x[::-1]))', 'question_id': 41067960}\n"
     ]
    }
   ],
   "source": [
    "import json\n",
    "\n",
    "train_file = open(\"conala-corpus-v1.1/conala-corpus/conala-train.json\", \"r\")\n",
    "train_json = json.load(train_file)\n",
    "\n",
    "print(len(train_json))\n",
    "print(train_json[0])"
   ]
  },
  {
   "cell_type": "code",
   "execution_count": 4,
   "outputs": [
    {
     "name": "stdout",
     "output_type": "stream",
     "text": [
      "How to convert a list of multiple integers into a single integer?\n",
      "sum(d * 10 ** i for i, d in enumerate(x[::-1]))\n"
     ]
    }
   ],
   "source": [
    "base_sentences = [item[\"intent\"] for item in train_json]\n",
    "codes = [item[\"snippet\"] for item in train_json]\n",
    "\n",
    "print(base_sentences[0])\n",
    "print(codes[0])"
   ],
   "metadata": {
    "collapsed": false,
    "pycharm": {
     "name": "#%%\n"
    }
   }
  },
  {
   "cell_type": "code",
   "execution_count": 4,
   "outputs": [],
   "source": [],
   "metadata": {
    "collapsed": false,
    "pycharm": {
     "name": "#%%\n"
    }
   }
  }
 ],
 "metadata": {
  "kernelspec": {
   "display_name": "Python 3",
   "language": "python",
   "name": "python3"
  },
  "language_info": {
   "codemirror_mode": {
    "name": "ipython",
    "version": 2
   },
   "file_extension": ".py",
   "mimetype": "text/x-python",
   "name": "python",
   "nbconvert_exporter": "python",
   "pygments_lexer": "ipython2",
   "version": "2.7.6"
  }
 },
 "nbformat": 4,
 "nbformat_minor": 0
}